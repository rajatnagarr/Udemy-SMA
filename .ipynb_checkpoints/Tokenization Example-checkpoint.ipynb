{
 "cells": [
  {
   "cell_type": "code",
   "execution_count": 1,
   "id": "20da5f7f-7514-4cdb-8ab0-27905082348f",
   "metadata": {
    "scrolled": true
   },
   "outputs": [
    {
     "name": "stdout",
     "output_type": "stream",
     "text": [
      "Requirement already satisfied: nltk in c:\\users\\rajat.rajat\\anaconda3\\lib\\site-packages (3.8.1)\n",
      "Requirement already satisfied: click in c:\\users\\rajat.rajat\\anaconda3\\lib\\site-packages (from nltk) (8.1.7)\n",
      "Requirement already satisfied: joblib in c:\\users\\rajat.rajat\\anaconda3\\lib\\site-packages (from nltk) (1.4.2)\n",
      "Requirement already satisfied: regex>=2021.8.3 in c:\\users\\rajat.rajat\\anaconda3\\lib\\site-packages (from nltk) (2023.10.3)\n",
      "Requirement already satisfied: tqdm in c:\\users\\rajat.rajat\\anaconda3\\lib\\site-packages (from nltk) (4.66.4)\n",
      "Requirement already satisfied: colorama in c:\\users\\rajat.rajat\\appdata\\roaming\\python\\python312\\site-packages (from click->nltk) (0.4.6)\n",
      "Note: you may need to restart the kernel to use updated packages.\n"
     ]
    }
   ],
   "source": [
    "pip install nltk"
   ]
  },
  {
   "cell_type": "code",
   "execution_count": 3,
   "id": "b36048cf-1319-47c8-bc03-3ae698c007af",
   "metadata": {},
   "outputs": [
    {
     "name": "stdout",
     "output_type": "stream",
     "text": [
      "Requirement already satisfied: jupyter-tabnine in c:\\users\\rajat.rajat\\anaconda3\\lib\\site-packages (1.2.3)\n",
      "Requirement already satisfied: ipython in c:\\users\\rajat.rajat\\appdata\\roaming\\python\\python312\\site-packages (from jupyter-tabnine) (8.27.0)\n",
      "Requirement already satisfied: jupyter-core in c:\\users\\rajat.rajat\\appdata\\roaming\\python\\python312\\site-packages (from jupyter-tabnine) (5.7.2)\n",
      "Requirement already satisfied: nbconvert in c:\\users\\rajat.rajat\\anaconda3\\lib\\site-packages (from jupyter-tabnine) (7.10.0)\n",
      "Requirement already satisfied: notebook>=4.2 in c:\\users\\rajat.rajat\\anaconda3\\lib\\site-packages (from jupyter-tabnine) (7.0.8)\n",
      "Requirement already satisfied: jupyter-server<3,>=2.4.0 in c:\\users\\rajat.rajat\\anaconda3\\lib\\site-packages (from notebook>=4.2->jupyter-tabnine) (2.14.1)\n",
      "Requirement already satisfied: jupyterlab-server<3,>=2.22.1 in c:\\users\\rajat.rajat\\anaconda3\\lib\\site-packages (from notebook>=4.2->jupyter-tabnine) (2.25.1)\n",
      "Requirement already satisfied: jupyterlab<4.1,>=4.0.2 in c:\\users\\rajat.rajat\\anaconda3\\lib\\site-packages (from notebook>=4.2->jupyter-tabnine) (4.0.11)\n",
      "Requirement already satisfied: notebook-shim<0.3,>=0.2 in c:\\users\\rajat.rajat\\anaconda3\\lib\\site-packages (from notebook>=4.2->jupyter-tabnine) (0.2.3)\n",
      "Requirement already satisfied: tornado>=6.2.0 in c:\\users\\rajat.rajat\\anaconda3\\lib\\site-packages (from notebook>=4.2->jupyter-tabnine) (6.4.1)\n",
      "Requirement already satisfied: decorator in c:\\users\\rajat.rajat\\appdata\\roaming\\python\\python312\\site-packages (from ipython->jupyter-tabnine) (5.1.1)\n",
      "Requirement already satisfied: jedi>=0.16 in c:\\users\\rajat.rajat\\appdata\\roaming\\python\\python312\\site-packages (from ipython->jupyter-tabnine) (0.19.1)\n",
      "Requirement already satisfied: matplotlib-inline in c:\\users\\rajat.rajat\\appdata\\roaming\\python\\python312\\site-packages (from ipython->jupyter-tabnine) (0.1.7)\n",
      "Requirement already satisfied: prompt-toolkit<3.1.0,>=3.0.41 in c:\\users\\rajat.rajat\\appdata\\roaming\\python\\python312\\site-packages (from ipython->jupyter-tabnine) (3.0.47)\n",
      "Requirement already satisfied: pygments>=2.4.0 in c:\\users\\rajat.rajat\\appdata\\roaming\\python\\python312\\site-packages (from ipython->jupyter-tabnine) (2.18.0)\n",
      "Requirement already satisfied: stack-data in c:\\users\\rajat.rajat\\appdata\\roaming\\python\\python312\\site-packages (from ipython->jupyter-tabnine) (0.6.3)\n",
      "Requirement already satisfied: traitlets>=5.13.0 in c:\\users\\rajat.rajat\\anaconda3\\lib\\site-packages (from ipython->jupyter-tabnine) (5.14.3)\n",
      "Requirement already satisfied: colorama in c:\\users\\rajat.rajat\\appdata\\roaming\\python\\python312\\site-packages (from ipython->jupyter-tabnine) (0.4.6)\n",
      "Requirement already satisfied: platformdirs>=2.5 in c:\\users\\rajat.rajat\\anaconda3\\lib\\site-packages (from jupyter-core->jupyter-tabnine) (3.10.0)\n",
      "Requirement already satisfied: pywin32>=300 in c:\\users\\rajat.rajat\\anaconda3\\lib\\site-packages (from jupyter-core->jupyter-tabnine) (305.1)\n",
      "Requirement already satisfied: beautifulsoup4 in c:\\users\\rajat.rajat\\anaconda3\\lib\\site-packages (from nbconvert->jupyter-tabnine) (4.12.3)\n",
      "Requirement already satisfied: bleach!=5.0.0 in c:\\users\\rajat.rajat\\anaconda3\\lib\\site-packages (from nbconvert->jupyter-tabnine) (4.1.0)\n",
      "Requirement already satisfied: defusedxml in c:\\users\\rajat.rajat\\anaconda3\\lib\\site-packages (from nbconvert->jupyter-tabnine) (0.7.1)\n",
      "Requirement already satisfied: jinja2>=3.0 in c:\\users\\rajat.rajat\\anaconda3\\lib\\site-packages (from nbconvert->jupyter-tabnine) (3.1.4)\n",
      "Requirement already satisfied: jupyterlab-pygments in c:\\users\\rajat.rajat\\anaconda3\\lib\\site-packages (from nbconvert->jupyter-tabnine) (0.1.2)\n",
      "Requirement already satisfied: markupsafe>=2.0 in c:\\users\\rajat.rajat\\anaconda3\\lib\\site-packages (from nbconvert->jupyter-tabnine) (2.1.3)\n",
      "Requirement already satisfied: mistune<4,>=2.0.3 in c:\\users\\rajat.rajat\\anaconda3\\lib\\site-packages (from nbconvert->jupyter-tabnine) (2.0.4)\n",
      "Requirement already satisfied: nbclient>=0.5.0 in c:\\users\\rajat.rajat\\anaconda3\\lib\\site-packages (from nbconvert->jupyter-tabnine) (0.8.0)\n",
      "Requirement already satisfied: nbformat>=5.7 in c:\\users\\rajat.rajat\\anaconda3\\lib\\site-packages (from nbconvert->jupyter-tabnine) (5.9.2)\n",
      "Requirement already satisfied: packaging in c:\\users\\rajat.rajat\\appdata\\roaming\\python\\python312\\site-packages (from nbconvert->jupyter-tabnine) (24.1)\n",
      "Requirement already satisfied: pandocfilters>=1.4.1 in c:\\users\\rajat.rajat\\anaconda3\\lib\\site-packages (from nbconvert->jupyter-tabnine) (1.5.0)\n",
      "Requirement already satisfied: tinycss2 in c:\\users\\rajat.rajat\\anaconda3\\lib\\site-packages (from nbconvert->jupyter-tabnine) (1.2.1)\n",
      "Requirement already satisfied: six>=1.9.0 in c:\\users\\rajat.rajat\\anaconda3\\lib\\site-packages (from bleach!=5.0.0->nbconvert->jupyter-tabnine) (1.16.0)\n",
      "Requirement already satisfied: webencodings in c:\\users\\rajat.rajat\\anaconda3\\lib\\site-packages (from bleach!=5.0.0->nbconvert->jupyter-tabnine) (0.5.1)\n",
      "Requirement already satisfied: parso<0.9.0,>=0.8.3 in c:\\users\\rajat.rajat\\appdata\\roaming\\python\\python312\\site-packages (from jedi>=0.16->ipython->jupyter-tabnine) (0.8.4)\n",
      "Requirement already satisfied: anyio>=3.1.0 in c:\\users\\rajat.rajat\\anaconda3\\lib\\site-packages (from jupyter-server<3,>=2.4.0->notebook>=4.2->jupyter-tabnine) (4.2.0)\n",
      "Requirement already satisfied: argon2-cffi>=21.1 in c:\\users\\rajat.rajat\\anaconda3\\lib\\site-packages (from jupyter-server<3,>=2.4.0->notebook>=4.2->jupyter-tabnine) (21.3.0)\n",
      "Requirement already satisfied: jupyter-client>=7.4.4 in c:\\users\\rajat.rajat\\appdata\\roaming\\python\\python312\\site-packages (from jupyter-server<3,>=2.4.0->notebook>=4.2->jupyter-tabnine) (8.6.3)\n",
      "Requirement already satisfied: jupyter-events>=0.9.0 in c:\\users\\rajat.rajat\\anaconda3\\lib\\site-packages (from jupyter-server<3,>=2.4.0->notebook>=4.2->jupyter-tabnine) (0.10.0)\n",
      "Requirement already satisfied: jupyter-server-terminals>=0.4.4 in c:\\users\\rajat.rajat\\anaconda3\\lib\\site-packages (from jupyter-server<3,>=2.4.0->notebook>=4.2->jupyter-tabnine) (0.4.4)\n",
      "Requirement already satisfied: overrides>=5.0 in c:\\users\\rajat.rajat\\anaconda3\\lib\\site-packages (from jupyter-server<3,>=2.4.0->notebook>=4.2->jupyter-tabnine) (7.4.0)\n",
      "Requirement already satisfied: prometheus-client>=0.9 in c:\\users\\rajat.rajat\\anaconda3\\lib\\site-packages (from jupyter-server<3,>=2.4.0->notebook>=4.2->jupyter-tabnine) (0.14.1)\n",
      "Requirement already satisfied: pywinpty>=2.0.1 in c:\\users\\rajat.rajat\\anaconda3\\lib\\site-packages (from jupyter-server<3,>=2.4.0->notebook>=4.2->jupyter-tabnine) (2.0.10)\n",
      "Requirement already satisfied: pyzmq>=24 in c:\\users\\rajat.rajat\\appdata\\roaming\\python\\python312\\site-packages (from jupyter-server<3,>=2.4.0->notebook>=4.2->jupyter-tabnine) (26.2.0)\n",
      "Requirement already satisfied: send2trash>=1.8.2 in c:\\users\\rajat.rajat\\anaconda3\\lib\\site-packages (from jupyter-server<3,>=2.4.0->notebook>=4.2->jupyter-tabnine) (1.8.2)\n",
      "Requirement already satisfied: terminado>=0.8.3 in c:\\users\\rajat.rajat\\anaconda3\\lib\\site-packages (from jupyter-server<3,>=2.4.0->notebook>=4.2->jupyter-tabnine) (0.17.1)\n",
      "Requirement already satisfied: websocket-client>=1.7 in c:\\users\\rajat.rajat\\anaconda3\\lib\\site-packages (from jupyter-server<3,>=2.4.0->notebook>=4.2->jupyter-tabnine) (1.8.0)\n",
      "Requirement already satisfied: async-lru>=1.0.0 in c:\\users\\rajat.rajat\\anaconda3\\lib\\site-packages (from jupyterlab<4.1,>=4.0.2->notebook>=4.2->jupyter-tabnine) (2.0.4)\n",
      "Requirement already satisfied: ipykernel in c:\\users\\rajat.rajat\\appdata\\roaming\\python\\python312\\site-packages (from jupyterlab<4.1,>=4.0.2->notebook>=4.2->jupyter-tabnine) (6.29.5)\n",
      "Requirement already satisfied: jupyter-lsp>=2.0.0 in c:\\users\\rajat.rajat\\anaconda3\\lib\\site-packages (from jupyterlab<4.1,>=4.0.2->notebook>=4.2->jupyter-tabnine) (2.2.0)\n",
      "Requirement already satisfied: babel>=2.10 in c:\\users\\rajat.rajat\\anaconda3\\lib\\site-packages (from jupyterlab-server<3,>=2.22.1->notebook>=4.2->jupyter-tabnine) (2.11.0)\n",
      "Requirement already satisfied: json5>=0.9.0 in c:\\users\\rajat.rajat\\anaconda3\\lib\\site-packages (from jupyterlab-server<3,>=2.22.1->notebook>=4.2->jupyter-tabnine) (0.9.6)\n",
      "Requirement already satisfied: jsonschema>=4.18.0 in c:\\users\\rajat.rajat\\anaconda3\\lib\\site-packages (from jupyterlab-server<3,>=2.22.1->notebook>=4.2->jupyter-tabnine) (4.19.2)\n",
      "Requirement already satisfied: requests>=2.31 in c:\\users\\rajat.rajat\\anaconda3\\lib\\site-packages (from jupyterlab-server<3,>=2.22.1->notebook>=4.2->jupyter-tabnine) (2.32.2)\n",
      "Requirement already satisfied: fastjsonschema in c:\\users\\rajat.rajat\\anaconda3\\lib\\site-packages (from nbformat>=5.7->nbconvert->jupyter-tabnine) (2.16.2)\n",
      "Requirement already satisfied: wcwidth in c:\\users\\rajat.rajat\\anaconda3\\lib\\site-packages (from prompt-toolkit<3.1.0,>=3.0.41->ipython->jupyter-tabnine) (0.2.5)\n",
      "Requirement already satisfied: soupsieve>1.2 in c:\\users\\rajat.rajat\\anaconda3\\lib\\site-packages (from beautifulsoup4->nbconvert->jupyter-tabnine) (2.5)\n",
      "Requirement already satisfied: executing>=1.2.0 in c:\\users\\rajat.rajat\\appdata\\roaming\\python\\python312\\site-packages (from stack-data->ipython->jupyter-tabnine) (2.1.0)\n",
      "Requirement already satisfied: asttokens>=2.1.0 in c:\\users\\rajat.rajat\\appdata\\roaming\\python\\python312\\site-packages (from stack-data->ipython->jupyter-tabnine) (2.4.1)\n",
      "Requirement already satisfied: pure-eval in c:\\users\\rajat.rajat\\anaconda3\\lib\\site-packages (from stack-data->ipython->jupyter-tabnine) (0.2.2)\n",
      "Requirement already satisfied: idna>=2.8 in c:\\users\\rajat.rajat\\anaconda3\\lib\\site-packages (from anyio>=3.1.0->jupyter-server<3,>=2.4.0->notebook>=4.2->jupyter-tabnine) (3.7)\n",
      "Requirement already satisfied: sniffio>=1.1 in c:\\users\\rajat.rajat\\anaconda3\\lib\\site-packages (from anyio>=3.1.0->jupyter-server<3,>=2.4.0->notebook>=4.2->jupyter-tabnine) (1.3.0)\n",
      "Requirement already satisfied: argon2-cffi-bindings in c:\\users\\rajat.rajat\\anaconda3\\lib\\site-packages (from argon2-cffi>=21.1->jupyter-server<3,>=2.4.0->notebook>=4.2->jupyter-tabnine) (21.2.0)\n",
      "Requirement already satisfied: pytz>=2015.7 in c:\\users\\rajat.rajat\\anaconda3\\lib\\site-packages (from babel>=2.10->jupyterlab-server<3,>=2.22.1->notebook>=4.2->jupyter-tabnine) (2024.1)\n",
      "Requirement already satisfied: attrs>=22.2.0 in c:\\users\\rajat.rajat\\anaconda3\\lib\\site-packages (from jsonschema>=4.18.0->jupyterlab-server<3,>=2.22.1->notebook>=4.2->jupyter-tabnine) (23.1.0)\n",
      "Requirement already satisfied: jsonschema-specifications>=2023.03.6 in c:\\users\\rajat.rajat\\anaconda3\\lib\\site-packages (from jsonschema>=4.18.0->jupyterlab-server<3,>=2.22.1->notebook>=4.2->jupyter-tabnine) (2023.7.1)\n",
      "Requirement already satisfied: referencing>=0.28.4 in c:\\users\\rajat.rajat\\anaconda3\\lib\\site-packages (from jsonschema>=4.18.0->jupyterlab-server<3,>=2.22.1->notebook>=4.2->jupyter-tabnine) (0.30.2)\n",
      "Requirement already satisfied: rpds-py>=0.7.1 in c:\\users\\rajat.rajat\\anaconda3\\lib\\site-packages (from jsonschema>=4.18.0->jupyterlab-server<3,>=2.22.1->notebook>=4.2->jupyter-tabnine) (0.10.6)\n",
      "Requirement already satisfied: python-dateutil>=2.8.2 in c:\\users\\rajat.rajat\\appdata\\roaming\\python\\python312\\site-packages (from jupyter-client>=7.4.4->jupyter-server<3,>=2.4.0->notebook>=4.2->jupyter-tabnine) (2.9.0.post0)\n",
      "Requirement already satisfied: python-json-logger>=2.0.4 in c:\\users\\rajat.rajat\\anaconda3\\lib\\site-packages (from jupyter-events>=0.9.0->jupyter-server<3,>=2.4.0->notebook>=4.2->jupyter-tabnine) (2.0.7)\n",
      "Requirement already satisfied: pyyaml>=5.3 in c:\\users\\rajat.rajat\\anaconda3\\lib\\site-packages (from jupyter-events>=0.9.0->jupyter-server<3,>=2.4.0->notebook>=4.2->jupyter-tabnine) (6.0.1)\n",
      "Requirement already satisfied: rfc3339-validator in c:\\users\\rajat.rajat\\anaconda3\\lib\\site-packages (from jupyter-events>=0.9.0->jupyter-server<3,>=2.4.0->notebook>=4.2->jupyter-tabnine) (0.1.4)\n",
      "Requirement already satisfied: rfc3986-validator>=0.1.1 in c:\\users\\rajat.rajat\\anaconda3\\lib\\site-packages (from jupyter-events>=0.9.0->jupyter-server<3,>=2.4.0->notebook>=4.2->jupyter-tabnine) (0.1.1)\n",
      "Requirement already satisfied: charset-normalizer<4,>=2 in c:\\users\\rajat.rajat\\anaconda3\\lib\\site-packages (from requests>=2.31->jupyterlab-server<3,>=2.22.1->notebook>=4.2->jupyter-tabnine) (2.0.4)\n",
      "Requirement already satisfied: urllib3<3,>=1.21.1 in c:\\users\\rajat.rajat\\anaconda3\\lib\\site-packages (from requests>=2.31->jupyterlab-server<3,>=2.22.1->notebook>=4.2->jupyter-tabnine) (2.2.2)\n",
      "Requirement already satisfied: certifi>=2017.4.17 in c:\\users\\rajat.rajat\\anaconda3\\lib\\site-packages (from requests>=2.31->jupyterlab-server<3,>=2.22.1->notebook>=4.2->jupyter-tabnine) (2024.7.4)\n",
      "Requirement already satisfied: comm>=0.1.1 in c:\\users\\rajat.rajat\\appdata\\roaming\\python\\python312\\site-packages (from ipykernel->jupyterlab<4.1,>=4.0.2->notebook>=4.2->jupyter-tabnine) (0.2.2)\n",
      "Requirement already satisfied: debugpy>=1.6.5 in c:\\users\\rajat.rajat\\appdata\\roaming\\python\\python312\\site-packages (from ipykernel->jupyterlab<4.1,>=4.0.2->notebook>=4.2->jupyter-tabnine) (1.8.5)\n",
      "Requirement already satisfied: nest-asyncio in c:\\users\\rajat.rajat\\appdata\\roaming\\python\\python312\\site-packages (from ipykernel->jupyterlab<4.1,>=4.0.2->notebook>=4.2->jupyter-tabnine) (1.6.0)\n",
      "Requirement already satisfied: psutil in c:\\users\\rajat.rajat\\appdata\\roaming\\python\\python312\\site-packages (from ipykernel->jupyterlab<4.1,>=4.0.2->notebook>=4.2->jupyter-tabnine) (6.0.0)\n",
      "Requirement already satisfied: fqdn in c:\\users\\rajat.rajat\\anaconda3\\lib\\site-packages (from jsonschema[format-nongpl]>=4.18.0->jupyter-events>=0.9.0->jupyter-server<3,>=2.4.0->notebook>=4.2->jupyter-tabnine) (1.5.1)\n",
      "Requirement already satisfied: isoduration in c:\\users\\rajat.rajat\\anaconda3\\lib\\site-packages (from jsonschema[format-nongpl]>=4.18.0->jupyter-events>=0.9.0->jupyter-server<3,>=2.4.0->notebook>=4.2->jupyter-tabnine) (20.11.0)\n",
      "Requirement already satisfied: jsonpointer>1.13 in c:\\users\\rajat.rajat\\anaconda3\\lib\\site-packages (from jsonschema[format-nongpl]>=4.18.0->jupyter-events>=0.9.0->jupyter-server<3,>=2.4.0->notebook>=4.2->jupyter-tabnine) (2.1)\n",
      "Requirement already satisfied: uri-template in c:\\users\\rajat.rajat\\anaconda3\\lib\\site-packages (from jsonschema[format-nongpl]>=4.18.0->jupyter-events>=0.9.0->jupyter-server<3,>=2.4.0->notebook>=4.2->jupyter-tabnine) (1.3.0)\n",
      "Requirement already satisfied: webcolors>=1.11 in c:\\users\\rajat.rajat\\anaconda3\\lib\\site-packages (from jsonschema[format-nongpl]>=4.18.0->jupyter-events>=0.9.0->jupyter-server<3,>=2.4.0->notebook>=4.2->jupyter-tabnine) (24.8.0)\n",
      "Requirement already satisfied: cffi>=1.0.1 in c:\\users\\rajat.rajat\\anaconda3\\lib\\site-packages (from argon2-cffi-bindings->argon2-cffi>=21.1->jupyter-server<3,>=2.4.0->notebook>=4.2->jupyter-tabnine) (1.16.0)\n",
      "Requirement already satisfied: pycparser in c:\\users\\rajat.rajat\\anaconda3\\lib\\site-packages (from cffi>=1.0.1->argon2-cffi-bindings->argon2-cffi>=21.1->jupyter-server<3,>=2.4.0->notebook>=4.2->jupyter-tabnine) (2.21)\n",
      "Requirement already satisfied: arrow>=0.15.0 in c:\\users\\rajat.rajat\\anaconda3\\lib\\site-packages (from isoduration->jsonschema[format-nongpl]>=4.18.0->jupyter-events>=0.9.0->jupyter-server<3,>=2.4.0->notebook>=4.2->jupyter-tabnine) (1.2.3)\n",
      "Note: you may need to restart the kernel to use updated packages.\n"
     ]
    }
   ],
   "source": [
    "pip install jupyter-tabnine"
   ]
  },
  {
   "cell_type": "code",
   "execution_count": 7,
   "id": "ceba0216-2e24-488d-970f-d2b979ad3738",
   "metadata": {},
   "outputs": [],
   "source": [
    "corpus = \"\"\"Hello Welcome, to Krish Naik's NLP Tutorials.\n",
    "Please do watch the entire course! to become expert in NLP.\n",
    "\"\"\""
   ]
  },
  {
   "cell_type": "code",
   "execution_count": 9,
   "id": "b94d1918-9c2d-4411-a862-e6631d2b9bb5",
   "metadata": {},
   "outputs": [
    {
     "name": "stdout",
     "output_type": "stream",
     "text": [
      "Hello Welcome, to Krish Naik's NLP Tutorials.\n",
      "Please do watch the entire course! to become expert in NLP.\n",
      "\n"
     ]
    }
   ],
   "source": [
    "print(corpus)"
   ]
  },
  {
   "cell_type": "code",
   "execution_count": 11,
   "id": "dd87866b-083f-4296-bd2e-6764af55deff",
   "metadata": {},
   "outputs": [],
   "source": [
    "## Tokenization\n",
    "## Paragraph -> Sentences\n",
    "from nltk.tokenize import sent_tokenize"
   ]
  },
  {
   "cell_type": "code",
   "execution_count": 15,
   "id": "ceef6c7a-ef49-45ff-8de2-731f61224ad5",
   "metadata": {},
   "outputs": [],
   "source": [
    "documents = sent_tokenize(corpus)"
   ]
  },
  {
   "cell_type": "code",
   "execution_count": 17,
   "id": "9ff2738f-6e9a-47b1-9711-d80b6a07a148",
   "metadata": {},
   "outputs": [
    {
     "data": {
      "text/plain": [
       "[\"Hello Welcome, to Krish Naik's NLP Tutorials.\",\n",
       " 'Please do watch the entire course!',\n",
       " 'to become expert in NLP.']"
      ]
     },
     "execution_count": 17,
     "metadata": {},
     "output_type": "execute_result"
    }
   ],
   "source": [
    "documents"
   ]
  },
  {
   "cell_type": "code",
   "execution_count": 19,
   "id": "db1c0f44-cee4-4d03-9e66-5fde4b46fe2d",
   "metadata": {},
   "outputs": [
    {
     "data": {
      "text/plain": [
       "list"
      ]
     },
     "execution_count": 19,
     "metadata": {},
     "output_type": "execute_result"
    }
   ],
   "source": [
    "type(documents)"
   ]
  },
  {
   "cell_type": "code",
   "execution_count": 21,
   "id": "8472c137-c636-42de-a36c-088393ff439d",
   "metadata": {},
   "outputs": [
    {
     "name": "stdout",
     "output_type": "stream",
     "text": [
      "Hello Welcome, to Krish Naik's NLP Tutorials.\n",
      "Please do watch the entire course!\n",
      "to become expert in NLP.\n"
     ]
    }
   ],
   "source": [
    "for sentence in documents:\n",
    "    print(sentence)"
   ]
  },
  {
   "cell_type": "code",
   "execution_count": 27,
   "id": "6e2656c9-d291-4d59-b78e-67b5356045b4",
   "metadata": {},
   "outputs": [],
   "source": [
    "## Tokenization\n",
    "## Paragraph --> Words\n",
    "## Sentence --> Words\n",
    "from nltk.tokenize import word_tokenize"
   ]
  },
  {
   "cell_type": "code",
   "execution_count": 41,
   "id": "556e20e8-e43c-4237-bb45-a617d063c992",
   "metadata": {},
   "outputs": [
    {
     "data": {
      "text/plain": [
       "['Hello',\n",
       " 'Welcome',\n",
       " ',',\n",
       " 'to',\n",
       " 'Krish',\n",
       " 'Naik',\n",
       " \"'s\",\n",
       " 'NLP',\n",
       " 'Tutorials',\n",
       " '.',\n",
       " 'Please',\n",
       " 'do',\n",
       " 'watch',\n",
       " 'the',\n",
       " 'entire',\n",
       " 'course',\n",
       " '!',\n",
       " 'to',\n",
       " 'become',\n",
       " 'expert',\n",
       " 'in',\n",
       " 'NLP',\n",
       " '.']"
      ]
     },
     "execution_count": 41,
     "metadata": {},
     "output_type": "execute_result"
    }
   ],
   "source": [
    "word_tokenize(corpus)"
   ]
  },
  {
   "cell_type": "code",
   "execution_count": 43,
   "id": "a9129eb5",
   "metadata": {},
   "outputs": [],
   "source": [
    "## 's is not getting splitted"
   ]
  },
  {
   "cell_type": "code",
   "execution_count": 33,
   "id": "a31eb262-8284-437f-82bb-7f1d1317e49f",
   "metadata": {},
   "outputs": [
    {
     "name": "stdout",
     "output_type": "stream",
     "text": [
      "['Hello', 'Welcome', ',', 'to', 'Krish', 'Naik', \"'s\", 'NLP', 'Tutorials', '.']\n",
      "['Please', 'do', 'watch', 'the', 'entire', 'course', '!']\n",
      "['to', 'become', 'expert', 'in', 'NLP', '.']\n"
     ]
    }
   ],
   "source": [
    "for sentence in documents:\n",
    "    print(word_tokenize(sentence))"
   ]
  },
  {
   "cell_type": "code",
   "execution_count": 37,
   "id": "ed122d1d-8dae-46a1-9d06-6cc87d84cee1",
   "metadata": {},
   "outputs": [],
   "source": [
    "from nltk.tokenize import wordpunct_tokenize"
   ]
  },
  {
   "cell_type": "code",
   "execution_count": 39,
   "id": "e43369d9-4ee5-4c49-a67f-8229a020768a",
   "metadata": {},
   "outputs": [
    {
     "data": {
      "text/plain": [
       "['Hello',\n",
       " 'Welcome',\n",
       " ',',\n",
       " 'to',\n",
       " 'Krish',\n",
       " 'Naik',\n",
       " \"'\",\n",
       " 's',\n",
       " 'NLP',\n",
       " 'Tutorials',\n",
       " '.',\n",
       " 'Please',\n",
       " 'do',\n",
       " 'watch',\n",
       " 'the',\n",
       " 'entire',\n",
       " 'course',\n",
       " '!',\n",
       " 'to',\n",
       " 'become',\n",
       " 'expert',\n",
       " 'in',\n",
       " 'NLP',\n",
       " '.']"
      ]
     },
     "execution_count": 39,
     "metadata": {},
     "output_type": "execute_result"
    }
   ],
   "source": [
    "wordpunct_tokenize(corpus)"
   ]
  },
  {
   "cell_type": "code",
   "execution_count": 45,
   "id": "f2d20a7c-f433-4af3-aa85-d058bb2f3ca3",
   "metadata": {},
   "outputs": [],
   "source": [
    "## 's is also getting splitted"
   ]
  },
  {
   "cell_type": "code",
   "execution_count": 49,
   "id": "25f2b119-994b-4861-8984-b816fd355aa9",
   "metadata": {},
   "outputs": [],
   "source": [
    "from nltk.tokenize import TreebankWordTokenizer"
   ]
  },
  {
   "cell_type": "code",
   "execution_count": 51,
   "id": "d57057d8-2d06-4cbc-b622-d98273cad96b",
   "metadata": {},
   "outputs": [],
   "source": [
    "tokenizer = TreebankWordTokenizer()"
   ]
  },
  {
   "cell_type": "code",
   "execution_count": 55,
   "id": "60469aa0-2451-4940-97d8-e35fc35e1464",
   "metadata": {},
   "outputs": [
    {
     "data": {
      "text/plain": [
       "['Hello',\n",
       " 'Welcome',\n",
       " ',',\n",
       " 'to',\n",
       " 'Krish',\n",
       " 'Naik',\n",
       " \"'s\",\n",
       " 'NLP',\n",
       " 'Tutorials.',\n",
       " 'Please',\n",
       " 'do',\n",
       " 'watch',\n",
       " 'the',\n",
       " 'entire',\n",
       " 'course',\n",
       " '!',\n",
       " 'to',\n",
       " 'become',\n",
       " 'expert',\n",
       " 'in',\n",
       " 'NLP',\n",
       " '.']"
      ]
     },
     "execution_count": 55,
     "metadata": {},
     "output_type": "execute_result"
    }
   ],
   "source": [
    "tokenizer.tokenize(corpus)"
   ]
  },
  {
   "cell_type": "code",
   "execution_count": null,
   "id": "b8c85824-72fa-437f-b718-ca9887c8c0a3",
   "metadata": {},
   "outputs": [],
   "source": [
    "## . is not being treated as a seperate word except for the last fullstop"
   ]
  }
 ],
 "metadata": {
  "kernelspec": {
   "display_name": "Python 3 (ipykernel)",
   "language": "python",
   "name": "python3"
  },
  "language_info": {
   "codemirror_mode": {
    "name": "ipython",
    "version": 3
   },
   "file_extension": ".py",
   "mimetype": "text/x-python",
   "name": "python",
   "nbconvert_exporter": "python",
   "pygments_lexer": "ipython3",
   "version": "3.12.4"
  }
 },
 "nbformat": 4,
 "nbformat_minor": 5
}
